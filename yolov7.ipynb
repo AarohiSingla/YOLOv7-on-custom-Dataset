{
 "cells": [
  {
   "cell_type": "code",
   "execution_count": 3,
   "id": "5cbe819b",
   "metadata": {},
   "outputs": [],
   "source": [
    "#!git clone https://github.com/jinfagang/yolov7"
   ]
  },
  {
   "cell_type": "code",
   "execution_count": 4,
   "id": "76ce8530",
   "metadata": {},
   "outputs": [
    {
     "name": "stdout",
     "output_type": "stream",
     "text": [
      "D:\\yolov7_anaconda_env\\yolov7\n"
     ]
    }
   ],
   "source": [
    "cd yolov7"
   ]
  },
  {
   "cell_type": "code",
   "execution_count": null,
   "id": "9cb5354d",
   "metadata": {},
   "outputs": [],
   "source": [
    "# !pip install cython\n",
    "# !pip install “git+https://github.com/philferriere/cocoapi.git#egg=pycocotools&subdirectory=PythonAPI\" \n",
    "# #conda install pywin32 \n",
    "# !pip install opencv-python\n",
    "\n"
   ]
  },
  {
   "cell_type": "code",
   "execution_count": 5,
   "id": "2bc93659",
   "metadata": {},
   "outputs": [],
   "source": [
    "#!git clone https://github.com/facebookresearch/detectron2.git"
   ]
  },
  {
   "cell_type": "code",
   "execution_count": 6,
   "id": "329ac3d1",
   "metadata": {},
   "outputs": [],
   "source": [
    "#!python -m pip install -e detectron2"
   ]
  },
  {
   "cell_type": "code",
   "execution_count": 7,
   "id": "6e1caf44",
   "metadata": {},
   "outputs": [],
   "source": [
    "#!pip install nbnb\n",
    "#!pip install alfred-py\n",
    "#!pip install scipy"
   ]
  },
  {
   "cell_type": "markdown",
   "id": "5f7f7327",
   "metadata": {},
   "source": [
    "# Train Model"
   ]
  },
  {
   "cell_type": "code",
   "execution_count": 9,
   "id": "7f5a7d41",
   "metadata": {},
   "outputs": [],
   "source": [
    "\n",
    "# for car damage detection\n",
    "!python my_train_bloodcelldetection.py --config-file configs/car_damage_dataset/r50_1gpu.yaml --num-gpus 0"
   ]
  },
  {
   "cell_type": "markdown",
   "id": "eb7eac20",
   "metadata": {},
   "source": [
    "#### Trained model is stored in output folder"
   ]
  },
  {
   "cell_type": "markdown",
   "id": "023e034f",
   "metadata": {},
   "source": [
    "# Test Model"
   ]
  },
  {
   "cell_type": "code",
   "execution_count": 43,
   "id": "8b100640",
   "metadata": {},
   "outputs": [
    {
     "name": "stdout",
     "output_type": "stream",
     "text": [
      "\u001b[32m[07/09 19:03:32 detectron2]: \u001b[0mArguments: Namespace(confidence_threshold=0.27, config_file='output/car_damage_r50/config.yaml', input='test_images/car_test.jpg', nms_threshold=0.6, opts=['MODEL.WEIGHTS', 'output/car_damage_r50/model_final.pth'], output='detectasd', wandb_entity=None, wandb_project=None, webcam=False)\n",
      "\u001b[32m[07/09 19:03:33 fvcore.common.checkpoint]: \u001b[0m[Checkpointer] Loading from output/car_damage_r50/model_final.pth ...\n",
      "\u001b[32m[07/09 19:03:33 d2.checkpoint.c2_model_loading]: \u001b[0mFollowing weights matched with model:\n",
      "| Names in Model                       | Names in Checkpoint                                                                                  | Shapes                                          |\n",
      "|:-------------------------------------|:-----------------------------------------------------------------------------------------------------|:------------------------------------------------|\n",
      "| backbone.bottom_up.res2.0.conv1.*    | backbone.bottom_up.res2.0.conv1.{norm.bias,norm.running_mean,norm.running_var,norm.weight,weight}    | (64,) (64,) (64,) (64,) (64,64,1,1)             |\n",
      "| backbone.bottom_up.res2.0.conv2.*    | backbone.bottom_up.res2.0.conv2.{norm.bias,norm.running_mean,norm.running_var,norm.weight,weight}    | (64,) (64,) (64,) (64,) (64,64,3,3)             |\n",
      "| backbone.bottom_up.res2.0.conv3.*    | backbone.bottom_up.res2.0.conv3.{norm.bias,norm.running_mean,norm.running_var,norm.weight,weight}    | (256,) (256,) (256,) (256,) (256,64,1,1)        |\n",
      "| backbone.bottom_up.res2.0.shortcut.* | backbone.bottom_up.res2.0.shortcut.{norm.bias,norm.running_mean,norm.running_var,norm.weight,weight} | (256,) (256,) (256,) (256,) (256,64,1,1)        |\n",
      "| backbone.bottom_up.res2.1.conv1.*    | backbone.bottom_up.res2.1.conv1.{norm.bias,norm.running_mean,norm.running_var,norm.weight,weight}    | (64,) (64,) (64,) (64,) (64,256,1,1)            |\n",
      "| backbone.bottom_up.res2.1.conv2.*    | backbone.bottom_up.res2.1.conv2.{norm.bias,norm.running_mean,norm.running_var,norm.weight,weight}    | (64,) (64,) (64,) (64,) (64,64,3,3)             |\n",
      "| backbone.bottom_up.res2.1.conv3.*    | backbone.bottom_up.res2.1.conv3.{norm.bias,norm.running_mean,norm.running_var,norm.weight,weight}    | (256,) (256,) (256,) (256,) (256,64,1,1)        |\n",
      "| backbone.bottom_up.res2.2.conv1.*    | backbone.bottom_up.res2.2.conv1.{norm.bias,norm.running_mean,norm.running_var,norm.weight,weight}    | (64,) (64,) (64,) (64,) (64,256,1,1)            |\n",
      "| backbone.bottom_up.res2.2.conv2.*    | backbone.bottom_up.res2.2.conv2.{norm.bias,norm.running_mean,norm.running_var,norm.weight,weight}    | (64,) (64,) (64,) (64,) (64,64,3,3)             |\n",
      "| backbone.bottom_up.res2.2.conv3.*    | backbone.bottom_up.res2.2.conv3.{norm.bias,norm.running_mean,norm.running_var,norm.weight,weight}    | (256,) (256,) (256,) (256,) (256,64,1,1)        |\n",
      "| backbone.bottom_up.res3.0.conv1.*    | backbone.bottom_up.res3.0.conv1.{norm.bias,norm.running_mean,norm.running_var,norm.weight,weight}    | (128,) (128,) (128,) (128,) (128,256,1,1)       |\n",
      "| backbone.bottom_up.res3.0.conv2.*    | backbone.bottom_up.res3.0.conv2.{norm.bias,norm.running_mean,norm.running_var,norm.weight,weight}    | (128,) (128,) (128,) (128,) (128,128,3,3)       |\n",
      "| backbone.bottom_up.res3.0.conv3.*    | backbone.bottom_up.res3.0.conv3.{norm.bias,norm.running_mean,norm.running_var,norm.weight,weight}    | (512,) (512,) (512,) (512,) (512,128,1,1)       |\n",
      "| backbone.bottom_up.res3.0.shortcut.* | backbone.bottom_up.res3.0.shortcut.{norm.bias,norm.running_mean,norm.running_var,norm.weight,weight} | (512,) (512,) (512,) (512,) (512,256,1,1)       |\n",
      "| backbone.bottom_up.res3.1.conv1.*    | backbone.bottom_up.res3.1.conv1.{norm.bias,norm.running_mean,norm.running_var,norm.weight,weight}    | (128,) (128,) (128,) (128,) (128,512,1,1)       |\n",
      "| backbone.bottom_up.res3.1.conv2.*    | backbone.bottom_up.res3.1.conv2.{norm.bias,norm.running_mean,norm.running_var,norm.weight,weight}    | (128,) (128,) (128,) (128,) (128,128,3,3)       |\n",
      "| backbone.bottom_up.res3.1.conv3.*    | backbone.bottom_up.res3.1.conv3.{norm.bias,norm.running_mean,norm.running_var,norm.weight,weight}    | (512,) (512,) (512,) (512,) (512,128,1,1)       |\n",
      "| backbone.bottom_up.res3.2.conv1.*    | backbone.bottom_up.res3.2.conv1.{norm.bias,norm.running_mean,norm.running_var,norm.weight,weight}    | (128,) (128,) (128,) (128,) (128,512,1,1)       |\n",
      "| backbone.bottom_up.res3.2.conv2.*    | backbone.bottom_up.res3.2.conv2.{norm.bias,norm.running_mean,norm.running_var,norm.weight,weight}    | (128,) (128,) (128,) (128,) (128,128,3,3)       |\n",
      "| backbone.bottom_up.res3.2.conv3.*    | backbone.bottom_up.res3.2.conv3.{norm.bias,norm.running_mean,norm.running_var,norm.weight,weight}    | (512,) (512,) (512,) (512,) (512,128,1,1)       |\n",
      "| backbone.bottom_up.res3.3.conv1.*    | backbone.bottom_up.res3.3.conv1.{norm.bias,norm.running_mean,norm.running_var,norm.weight,weight}    | (128,) (128,) (128,) (128,) (128,512,1,1)       |\n",
      "| backbone.bottom_up.res3.3.conv2.*    | backbone.bottom_up.res3.3.conv2.{norm.bias,norm.running_mean,norm.running_var,norm.weight,weight}    | (128,) (128,) (128,) (128,) (128,128,3,3)       |\n",
      "| backbone.bottom_up.res3.3.conv3.*    | backbone.bottom_up.res3.3.conv3.{norm.bias,norm.running_mean,norm.running_var,norm.weight,weight}    | (512,) (512,) (512,) (512,) (512,128,1,1)       |\n",
      "| backbone.bottom_up.res4.0.conv1.*    | backbone.bottom_up.res4.0.conv1.{norm.bias,norm.running_mean,norm.running_var,norm.weight,weight}    | (256,) (256,) (256,) (256,) (256,512,1,1)       |\n",
      "| backbone.bottom_up.res4.0.conv2.*    | backbone.bottom_up.res4.0.conv2.{norm.bias,norm.running_mean,norm.running_var,norm.weight,weight}    | (256,) (256,) (256,) (256,) (256,256,3,3)       |\n",
      "| backbone.bottom_up.res4.0.conv3.*    | backbone.bottom_up.res4.0.conv3.{norm.bias,norm.running_mean,norm.running_var,norm.weight,weight}    | (1024,) (1024,) (1024,) (1024,) (1024,256,1,1)  |\n",
      "| backbone.bottom_up.res4.0.shortcut.* | backbone.bottom_up.res4.0.shortcut.{norm.bias,norm.running_mean,norm.running_var,norm.weight,weight} | (1024,) (1024,) (1024,) (1024,) (1024,512,1,1)  |\n",
      "| backbone.bottom_up.res4.1.conv1.*    | backbone.bottom_up.res4.1.conv1.{norm.bias,norm.running_mean,norm.running_var,norm.weight,weight}    | (256,) (256,) (256,) (256,) (256,1024,1,1)      |\n",
      "| backbone.bottom_up.res4.1.conv2.*    | backbone.bottom_up.res4.1.conv2.{norm.bias,norm.running_mean,norm.running_var,norm.weight,weight}    | (256,) (256,) (256,) (256,) (256,256,3,3)       |\n",
      "| backbone.bottom_up.res4.1.conv3.*    | backbone.bottom_up.res4.1.conv3.{norm.bias,norm.running_mean,norm.running_var,norm.weight,weight}    | (1024,) (1024,) (1024,) (1024,) (1024,256,1,1)  |\n",
      "| backbone.bottom_up.res4.2.conv1.*    | backbone.bottom_up.res4.2.conv1.{norm.bias,norm.running_mean,norm.running_var,norm.weight,weight}    | (256,) (256,) (256,) (256,) (256,1024,1,1)      |\n",
      "| backbone.bottom_up.res4.2.conv2.*    | backbone.bottom_up.res4.2.conv2.{norm.bias,norm.running_mean,norm.running_var,norm.weight,weight}    | (256,) (256,) (256,) (256,) (256,256,3,3)       |\n",
      "| backbone.bottom_up.res4.2.conv3.*    | backbone.bottom_up.res4.2.conv3.{norm.bias,norm.running_mean,norm.running_var,norm.weight,weight}    | (1024,) (1024,) (1024,) (1024,) (1024,256,1,1)  |\n",
      "| backbone.bottom_up.res4.3.conv1.*    | backbone.bottom_up.res4.3.conv1.{norm.bias,norm.running_mean,norm.running_var,norm.weight,weight}    | (256,) (256,) (256,) (256,) (256,1024,1,1)      |\n",
      "| backbone.bottom_up.res4.3.conv2.*    | backbone.bottom_up.res4.3.conv2.{norm.bias,norm.running_mean,norm.running_var,norm.weight,weight}    | (256,) (256,) (256,) (256,) (256,256,3,3)       |\n",
      "| backbone.bottom_up.res4.3.conv3.*    | backbone.bottom_up.res4.3.conv3.{norm.bias,norm.running_mean,norm.running_var,norm.weight,weight}    | (1024,) (1024,) (1024,) (1024,) (1024,256,1,1)  |\n",
      "| backbone.bottom_up.res4.4.conv1.*    | backbone.bottom_up.res4.4.conv1.{norm.bias,norm.running_mean,norm.running_var,norm.weight,weight}    | (256,) (256,) (256,) (256,) (256,1024,1,1)      |\n",
      "| backbone.bottom_up.res4.4.conv2.*    | backbone.bottom_up.res4.4.conv2.{norm.bias,norm.running_mean,norm.running_var,norm.weight,weight}    | (256,) (256,) (256,) (256,) (256,256,3,3)       |\n",
      "| backbone.bottom_up.res4.4.conv3.*    | backbone.bottom_up.res4.4.conv3.{norm.bias,norm.running_mean,norm.running_var,norm.weight,weight}    | (1024,) (1024,) (1024,) (1024,) (1024,256,1,1)  |\n",
      "| backbone.bottom_up.res4.5.conv1.*    | backbone.bottom_up.res4.5.conv1.{norm.bias,norm.running_mean,norm.running_var,norm.weight,weight}    | (256,) (256,) (256,) (256,) (256,1024,1,1)      |\n",
      "| backbone.bottom_up.res4.5.conv2.*    | backbone.bottom_up.res4.5.conv2.{norm.bias,norm.running_mean,norm.running_var,norm.weight,weight}    | (256,) (256,) (256,) (256,) (256,256,3,3)       |\n",
      "| backbone.bottom_up.res4.5.conv3.*    | backbone.bottom_up.res4.5.conv3.{norm.bias,norm.running_mean,norm.running_var,norm.weight,weight}    | (1024,) (1024,) (1024,) (1024,) (1024,256,1,1)  |\n",
      "| backbone.bottom_up.res5.0.conv1.*    | backbone.bottom_up.res5.0.conv1.{norm.bias,norm.running_mean,norm.running_var,norm.weight,weight}    | (512,) (512,) (512,) (512,) (512,1024,1,1)      |\n",
      "| backbone.bottom_up.res5.0.conv2.*    | backbone.bottom_up.res5.0.conv2.{norm.bias,norm.running_mean,norm.running_var,norm.weight,weight}    | (512,) (512,) (512,) (512,) (512,512,3,3)       |\n",
      "| backbone.bottom_up.res5.0.conv3.*    | backbone.bottom_up.res5.0.conv3.{norm.bias,norm.running_mean,norm.running_var,norm.weight,weight}    | (2048,) (2048,) (2048,) (2048,) (2048,512,1,1)  |\n",
      "| backbone.bottom_up.res5.0.shortcut.* | backbone.bottom_up.res5.0.shortcut.{norm.bias,norm.running_mean,norm.running_var,norm.weight,weight} | (2048,) (2048,) (2048,) (2048,) (2048,1024,1,1) |\n",
      "| backbone.bottom_up.res5.1.conv1.*    | backbone.bottom_up.res5.1.conv1.{norm.bias,norm.running_mean,norm.running_var,norm.weight,weight}    | (512,) (512,) (512,) (512,) (512,2048,1,1)      |\n",
      "| backbone.bottom_up.res5.1.conv2.*    | backbone.bottom_up.res5.1.conv2.{norm.bias,norm.running_mean,norm.running_var,norm.weight,weight}    | (512,) (512,) (512,) (512,) (512,512,3,3)       |\n",
      "| backbone.bottom_up.res5.1.conv3.*    | backbone.bottom_up.res5.1.conv3.{norm.bias,norm.running_mean,norm.running_var,norm.weight,weight}    | (2048,) (2048,) (2048,) (2048,) (2048,512,1,1)  |\n",
      "| backbone.bottom_up.res5.2.conv1.*    | backbone.bottom_up.res5.2.conv1.{norm.bias,norm.running_mean,norm.running_var,norm.weight,weight}    | (512,) (512,) (512,) (512,) (512,2048,1,1)      |\n",
      "| backbone.bottom_up.res5.2.conv2.*    | backbone.bottom_up.res5.2.conv2.{norm.bias,norm.running_mean,norm.running_var,norm.weight,weight}    | (512,) (512,) (512,) (512,) (512,512,3,3)       |\n",
      "| backbone.bottom_up.res5.2.conv3.*    | backbone.bottom_up.res5.2.conv3.{norm.bias,norm.running_mean,norm.running_var,norm.weight,weight}    | (2048,) (2048,) (2048,) (2048,) (2048,512,1,1)  |\n",
      "| backbone.bottom_up.stem.conv1.*      | backbone.bottom_up.stem.conv1.{norm.bias,norm.running_mean,norm.running_var,norm.weight,weight}      | (64,) (64,) (64,) (64,) (64,3,7,7)              |\n",
      "| backbone.fpn_lateral3.*              | backbone.fpn_lateral3.{bias,weight}                                                                  | (512,) (512,512,1,1)                            |\n",
      "| backbone.fpn_lateral4.*              | backbone.fpn_lateral4.{bias,weight}                                                                  | (512,) (512,1024,1,1)                           |\n",
      "| backbone.fpn_lateral5.*              | backbone.fpn_lateral5.{bias,weight}                                                                  | (512,) (512,2048,1,1)                           |\n",
      "| backbone.fpn_output3.*               | backbone.fpn_output3.{bias,weight}                                                                   | (512,) (512,512,3,3)                            |\n",
      "| backbone.fpn_output4.*               | backbone.fpn_output4.{bias,weight}                                                                   | (512,) (512,512,3,3)                            |\n",
      "| backbone.fpn_output5.*               | backbone.fpn_output5.{bias,weight}                                                                   | (512,) (512,512,3,3)                            |\n",
      "| m.0.*                                | m.0.{bias,weight}                                                                                    | (18,) (18,512,1,1)                              |\n",
      "| m.1.*                                | m.1.{bias,weight}                                                                                    | (18,) (18,256,1,1)                              |\n",
      "| m.2.*                                | m.2.{bias,weight}                                                                                    | (18,) (18,128,1,1)                              |\n",
      "| neck.out0.0.bn.*                     | neck.out0.0.bn.{bias,num_batches_tracked,running_mean,running_var,weight}                            | (512,) () (512,) (512,) (512,)                  |\n",
      "| neck.out0.0.conv.weight              | neck.out0.0.conv.weight                                                                              | (512, 512, 1, 1)                                |\n",
      "| neck.out0.1.bn.*                     | neck.out0.1.bn.{bias,num_batches_tracked,running_mean,running_var,weight}                            | (1024,) () (1024,) (1024,) (1024,)              |\n",
      "| neck.out0.1.conv.weight              | neck.out0.1.conv.weight                                                                              | (1024, 512, 3, 3)                               |\n",
      "| neck.out0.2.bn.*                     | neck.out0.2.bn.{bias,num_batches_tracked,running_mean,running_var,weight}                            | (512,) () (512,) (512,) (512,)                  |\n",
      "| neck.out0.2.conv.weight              | neck.out0.2.conv.weight                                                                              | (512, 1024, 1, 1)                               |\n",
      "| neck.out0.3.bn.*                     | neck.out0.3.bn.{bias,num_batches_tracked,running_mean,running_var,weight}                            | (1024,) () (1024,) (1024,) (1024,)              |\n",
      "| neck.out0.3.conv.weight              | neck.out0.3.conv.weight                                                                              | (1024, 512, 3, 3)                               |\n",
      "| neck.out0.4.bn.*                     | neck.out0.4.bn.{bias,num_batches_tracked,running_mean,running_var,weight}                            | (512,) () (512,) (512,) (512,)                  |\n",
      "| neck.out0.4.conv.weight              | neck.out0.4.conv.weight                                                                              | (512, 1024, 1, 1)                               |\n",
      "| neck.out1.0.bn.*                     | neck.out1.0.bn.{bias,num_batches_tracked,running_mean,running_var,weight}                            | (256,) () (256,) (256,) (256,)                  |\n",
      "| neck.out1.0.conv.weight              | neck.out1.0.conv.weight                                                                              | (256, 768, 1, 1)                                |\n",
      "| neck.out1.1.bn.*                     | neck.out1.1.bn.{bias,num_batches_tracked,running_mean,running_var,weight}                            | (512,) () (512,) (512,) (512,)                  |\n",
      "| neck.out1.1.conv.weight              | neck.out1.1.conv.weight                                                                              | (512, 256, 3, 3)                                |\n",
      "| neck.out1.2.bn.*                     | neck.out1.2.bn.{bias,num_batches_tracked,running_mean,running_var,weight}                            | (256,) () (256,) (256,) (256,)                  |\n",
      "| neck.out1.2.conv.weight              | neck.out1.2.conv.weight                                                                              | (256, 512, 1, 1)                                |\n",
      "| neck.out1.3.bn.*                     | neck.out1.3.bn.{bias,num_batches_tracked,running_mean,running_var,weight}                            | (512,) () (512,) (512,) (512,)                  |\n",
      "| neck.out1.3.conv.weight              | neck.out1.3.conv.weight                                                                              | (512, 256, 3, 3)                                |\n",
      "| neck.out1.4.bn.*                     | neck.out1.4.bn.{bias,num_batches_tracked,running_mean,running_var,weight}                            | (256,) () (256,) (256,) (256,)                  |\n",
      "| neck.out1.4.conv.weight              | neck.out1.4.conv.weight                                                                              | (256, 512, 1, 1)                                |\n",
      "| neck.out1_cbl.bn.*                   | neck.out1_cbl.bn.{bias,num_batches_tracked,running_mean,running_var,weight}                          | (256,) () (256,) (256,) (256,)                  |\n",
      "| neck.out1_cbl.conv.weight            | neck.out1_cbl.conv.weight                                                                            | (256, 512, 1, 1)                                |\n",
      "| neck.out2.0.bn.*                     | neck.out2.0.bn.{bias,num_batches_tracked,running_mean,running_var,weight}                            | (128,) () (128,) (128,) (128,)                  |\n",
      "| neck.out2.0.conv.weight              | neck.out2.0.conv.weight                                                                              | (128, 640, 1, 1)                                |\n",
      "| neck.out2.1.bn.*                     | neck.out2.1.bn.{bias,num_batches_tracked,running_mean,running_var,weight}                            | (256,) () (256,) (256,) (256,)                  |\n",
      "| neck.out2.1.conv.weight              | neck.out2.1.conv.weight                                                                              | (256, 128, 3, 3)                                |\n",
      "| neck.out2.2.bn.*                     | neck.out2.2.bn.{bias,num_batches_tracked,running_mean,running_var,weight}                            | (128,) () (128,) (128,) (128,)                  |\n",
      "| neck.out2.2.conv.weight              | neck.out2.2.conv.weight                                                                              | (128, 256, 1, 1)                                |\n",
      "| neck.out2.3.bn.*                     | neck.out2.3.bn.{bias,num_batches_tracked,running_mean,running_var,weight}                            | (256,) () (256,) (256,) (256,)                  |\n",
      "| neck.out2.3.conv.weight              | neck.out2.3.conv.weight                                                                              | (256, 128, 3, 3)                                |\n",
      "| neck.out2.4.bn.*                     | neck.out2.4.bn.{bias,num_batches_tracked,running_mean,running_var,weight}                            | (128,) () (128,) (128,) (128,)                  |\n",
      "| neck.out2.4.conv.weight              | neck.out2.4.conv.weight                                                                              | (128, 256, 1, 1)                                |\n",
      "| neck.out2_cbl.bn.*                   | neck.out2_cbl.bn.{bias,num_batches_tracked,running_mean,running_var,weight}                          | (128,) () (128,) (128,) (128,)                  |\n",
      "| neck.out2_cbl.conv.weight            | neck.out2_cbl.conv.weight                                                                            | (128, 256, 1, 1)                                |\n",
      "800 800 600\n",
      "confidence thresh:  0.27\n",
      "image after transform:  (600, 600, 3)\n",
      "cost: 0.8623068332672119, fps: 1.1596800134484377\n"
     ]
    },
    {
     "name": "stderr",
     "output_type": "stream",
     "text": [
      "Install mish-cuda to speed up training and inference. More importantly, replace the naive Mish with MishCuda will give a ~1.5G memory saving during training.\n",
      "19:03:32 07.09 \u001b[1mINFO\u001b[0m yolov7.py:98]: YOLO.ANCHORS: [[[231.0, 298.0], [356.0, 458.0], [157.0, 199.0]], [[85.0, 106.0], [63.0, 79.0], [115.0, 143.0]], [[46.0, 56.0], [31.0, 37.0], [17.0, 19.0]]]\n",
      "19:03:32 07.09 \u001b[1mINFO\u001b[0m yolov7.py:99]: backboneshape: [512, 512, 512]\n",
      "19:03:32 07.09 \u001b[1mINFO\u001b[0m yolov7.py:151]: type: yolov3 not valid, using default FPN neck.\n",
      "\n",
      "  0%|          | 0/1 [00:00<?, ?it/s]\n",
      "100%|##########| 1/1 [00:11<00:00, 11.25s/it]\n",
      "100%|##########| 1/1 [00:11<00:00, 11.25s/it]\n"
     ]
    }
   ],
   "source": [
    "# Below 2 commands are for testing blood cell detection model\n",
    "\n",
    "#!python my_demo.py --config-file output/bloodcell_r50_old/config.yaml --input test_img.jpg -c 0.7 --output outputs --opts MODEL.WEIGHTS output/bloodcell_r50_old/model_0039999.pth\n",
    "\n",
    "#!python my_demo.py --config-file output/bloodcell_r50/config.yaml --input test_img.jpg -c 0.7 --output detected.jpg --opts MODEL.WEIGHTS output/bloodcell_r50/model_final.pth\n",
    "\n",
    "\n",
    "# Command for testing car damage detection\n",
    "!python my_demo.py --config-file output/car_damage_r50/config.yaml --input test_images/car_test.jpg -c 0.27 --output detectasd --opts MODEL.WEIGHTS output/car_damage_r50/model_final.pth"
   ]
  },
  {
   "cell_type": "code",
   "execution_count": 33,
   "id": "ecebc305",
   "metadata": {},
   "outputs": [
    {
     "name": "stdout",
     "output_type": "stream",
     "text": [
      "\u001b[32m[07/09 17:11:31 detectron2]: \u001b[0mArguments: Namespace(confidence_threshold=0.27, config_file='output/car_damage_r50/config.yaml', input='images', nms_threshold=0.6, opts=['MODEL.WEIGHTS', 'output/car_damage_r50/model_final.pth'], output='detectasd', wandb_entity=None, wandb_project=None, webcam=False)\n",
      "\u001b[32m[07/09 17:11:33 fvcore.common.checkpoint]: \u001b[0m[Checkpointer] Loading from output/car_damage_r50/model_final.pth ...\n",
      "\u001b[32m[07/09 17:11:33 d2.checkpoint.c2_model_loading]: \u001b[0mFollowing weights matched with model:\n",
      "| Names in Model                       | Names in Checkpoint                                                                                  | Shapes                                          |\n",
      "|:-------------------------------------|:-----------------------------------------------------------------------------------------------------|:------------------------------------------------|\n",
      "| backbone.bottom_up.res2.0.conv1.*    | backbone.bottom_up.res2.0.conv1.{norm.bias,norm.running_mean,norm.running_var,norm.weight,weight}    | (64,) (64,) (64,) (64,) (64,64,1,1)             |\n",
      "| backbone.bottom_up.res2.0.conv2.*    | backbone.bottom_up.res2.0.conv2.{norm.bias,norm.running_mean,norm.running_var,norm.weight,weight}    | (64,) (64,) (64,) (64,) (64,64,3,3)             |\n",
      "| backbone.bottom_up.res2.0.conv3.*    | backbone.bottom_up.res2.0.conv3.{norm.bias,norm.running_mean,norm.running_var,norm.weight,weight}    | (256,) (256,) (256,) (256,) (256,64,1,1)        |\n",
      "| backbone.bottom_up.res2.0.shortcut.* | backbone.bottom_up.res2.0.shortcut.{norm.bias,norm.running_mean,norm.running_var,norm.weight,weight} | (256,) (256,) (256,) (256,) (256,64,1,1)        |\n",
      "| backbone.bottom_up.res2.1.conv1.*    | backbone.bottom_up.res2.1.conv1.{norm.bias,norm.running_mean,norm.running_var,norm.weight,weight}    | (64,) (64,) (64,) (64,) (64,256,1,1)            |\n",
      "| backbone.bottom_up.res2.1.conv2.*    | backbone.bottom_up.res2.1.conv2.{norm.bias,norm.running_mean,norm.running_var,norm.weight,weight}    | (64,) (64,) (64,) (64,) (64,64,3,3)             |\n",
      "| backbone.bottom_up.res2.1.conv3.*    | backbone.bottom_up.res2.1.conv3.{norm.bias,norm.running_mean,norm.running_var,norm.weight,weight}    | (256,) (256,) (256,) (256,) (256,64,1,1)        |\n",
      "| backbone.bottom_up.res2.2.conv1.*    | backbone.bottom_up.res2.2.conv1.{norm.bias,norm.running_mean,norm.running_var,norm.weight,weight}    | (64,) (64,) (64,) (64,) (64,256,1,1)            |\n",
      "| backbone.bottom_up.res2.2.conv2.*    | backbone.bottom_up.res2.2.conv2.{norm.bias,norm.running_mean,norm.running_var,norm.weight,weight}    | (64,) (64,) (64,) (64,) (64,64,3,3)             |\n",
      "| backbone.bottom_up.res2.2.conv3.*    | backbone.bottom_up.res2.2.conv3.{norm.bias,norm.running_mean,norm.running_var,norm.weight,weight}    | (256,) (256,) (256,) (256,) (256,64,1,1)        |\n",
      "| backbone.bottom_up.res3.0.conv1.*    | backbone.bottom_up.res3.0.conv1.{norm.bias,norm.running_mean,norm.running_var,norm.weight,weight}    | (128,) (128,) (128,) (128,) (128,256,1,1)       |\n",
      "| backbone.bottom_up.res3.0.conv2.*    | backbone.bottom_up.res3.0.conv2.{norm.bias,norm.running_mean,norm.running_var,norm.weight,weight}    | (128,) (128,) (128,) (128,) (128,128,3,3)       |\n",
      "| backbone.bottom_up.res3.0.conv3.*    | backbone.bottom_up.res3.0.conv3.{norm.bias,norm.running_mean,norm.running_var,norm.weight,weight}    | (512,) (512,) (512,) (512,) (512,128,1,1)       |\n",
      "| backbone.bottom_up.res3.0.shortcut.* | backbone.bottom_up.res3.0.shortcut.{norm.bias,norm.running_mean,norm.running_var,norm.weight,weight} | (512,) (512,) (512,) (512,) (512,256,1,1)       |\n",
      "| backbone.bottom_up.res3.1.conv1.*    | backbone.bottom_up.res3.1.conv1.{norm.bias,norm.running_mean,norm.running_var,norm.weight,weight}    | (128,) (128,) (128,) (128,) (128,512,1,1)       |\n",
      "| backbone.bottom_up.res3.1.conv2.*    | backbone.bottom_up.res3.1.conv2.{norm.bias,norm.running_mean,norm.running_var,norm.weight,weight}    | (128,) (128,) (128,) (128,) (128,128,3,3)       |\n",
      "| backbone.bottom_up.res3.1.conv3.*    | backbone.bottom_up.res3.1.conv3.{norm.bias,norm.running_mean,norm.running_var,norm.weight,weight}    | (512,) (512,) (512,) (512,) (512,128,1,1)       |\n",
      "| backbone.bottom_up.res3.2.conv1.*    | backbone.bottom_up.res3.2.conv1.{norm.bias,norm.running_mean,norm.running_var,norm.weight,weight}    | (128,) (128,) (128,) (128,) (128,512,1,1)       |\n",
      "| backbone.bottom_up.res3.2.conv2.*    | backbone.bottom_up.res3.2.conv2.{norm.bias,norm.running_mean,norm.running_var,norm.weight,weight}    | (128,) (128,) (128,) (128,) (128,128,3,3)       |\n",
      "| backbone.bottom_up.res3.2.conv3.*    | backbone.bottom_up.res3.2.conv3.{norm.bias,norm.running_mean,norm.running_var,norm.weight,weight}    | (512,) (512,) (512,) (512,) (512,128,1,1)       |\n",
      "| backbone.bottom_up.res3.3.conv1.*    | backbone.bottom_up.res3.3.conv1.{norm.bias,norm.running_mean,norm.running_var,norm.weight,weight}    | (128,) (128,) (128,) (128,) (128,512,1,1)       |\n",
      "| backbone.bottom_up.res3.3.conv2.*    | backbone.bottom_up.res3.3.conv2.{norm.bias,norm.running_mean,norm.running_var,norm.weight,weight}    | (128,) (128,) (128,) (128,) (128,128,3,3)       |\n",
      "| backbone.bottom_up.res3.3.conv3.*    | backbone.bottom_up.res3.3.conv3.{norm.bias,norm.running_mean,norm.running_var,norm.weight,weight}    | (512,) (512,) (512,) (512,) (512,128,1,1)       |\n",
      "| backbone.bottom_up.res4.0.conv1.*    | backbone.bottom_up.res4.0.conv1.{norm.bias,norm.running_mean,norm.running_var,norm.weight,weight}    | (256,) (256,) (256,) (256,) (256,512,1,1)       |\n",
      "| backbone.bottom_up.res4.0.conv2.*    | backbone.bottom_up.res4.0.conv2.{norm.bias,norm.running_mean,norm.running_var,norm.weight,weight}    | (256,) (256,) (256,) (256,) (256,256,3,3)       |\n",
      "| backbone.bottom_up.res4.0.conv3.*    | backbone.bottom_up.res4.0.conv3.{norm.bias,norm.running_mean,norm.running_var,norm.weight,weight}    | (1024,) (1024,) (1024,) (1024,) (1024,256,1,1)  |\n",
      "| backbone.bottom_up.res4.0.shortcut.* | backbone.bottom_up.res4.0.shortcut.{norm.bias,norm.running_mean,norm.running_var,norm.weight,weight} | (1024,) (1024,) (1024,) (1024,) (1024,512,1,1)  |\n",
      "| backbone.bottom_up.res4.1.conv1.*    | backbone.bottom_up.res4.1.conv1.{norm.bias,norm.running_mean,norm.running_var,norm.weight,weight}    | (256,) (256,) (256,) (256,) (256,1024,1,1)      |\n",
      "| backbone.bottom_up.res4.1.conv2.*    | backbone.bottom_up.res4.1.conv2.{norm.bias,norm.running_mean,norm.running_var,norm.weight,weight}    | (256,) (256,) (256,) (256,) (256,256,3,3)       |\n",
      "| backbone.bottom_up.res4.1.conv3.*    | backbone.bottom_up.res4.1.conv3.{norm.bias,norm.running_mean,norm.running_var,norm.weight,weight}    | (1024,) (1024,) (1024,) (1024,) (1024,256,1,1)  |\n",
      "| backbone.bottom_up.res4.2.conv1.*    | backbone.bottom_up.res4.2.conv1.{norm.bias,norm.running_mean,norm.running_var,norm.weight,weight}    | (256,) (256,) (256,) (256,) (256,1024,1,1)      |\n",
      "| backbone.bottom_up.res4.2.conv2.*    | backbone.bottom_up.res4.2.conv2.{norm.bias,norm.running_mean,norm.running_var,norm.weight,weight}    | (256,) (256,) (256,) (256,) (256,256,3,3)       |\n",
      "| backbone.bottom_up.res4.2.conv3.*    | backbone.bottom_up.res4.2.conv3.{norm.bias,norm.running_mean,norm.running_var,norm.weight,weight}    | (1024,) (1024,) (1024,) (1024,) (1024,256,1,1)  |\n",
      "| backbone.bottom_up.res4.3.conv1.*    | backbone.bottom_up.res4.3.conv1.{norm.bias,norm.running_mean,norm.running_var,norm.weight,weight}    | (256,) (256,) (256,) (256,) (256,1024,1,1)      |\n",
      "| backbone.bottom_up.res4.3.conv2.*    | backbone.bottom_up.res4.3.conv2.{norm.bias,norm.running_mean,norm.running_var,norm.weight,weight}    | (256,) (256,) (256,) (256,) (256,256,3,3)       |\n",
      "| backbone.bottom_up.res4.3.conv3.*    | backbone.bottom_up.res4.3.conv3.{norm.bias,norm.running_mean,norm.running_var,norm.weight,weight}    | (1024,) (1024,) (1024,) (1024,) (1024,256,1,1)  |\n",
      "| backbone.bottom_up.res4.4.conv1.*    | backbone.bottom_up.res4.4.conv1.{norm.bias,norm.running_mean,norm.running_var,norm.weight,weight}    | (256,) (256,) (256,) (256,) (256,1024,1,1)      |\n",
      "| backbone.bottom_up.res4.4.conv2.*    | backbone.bottom_up.res4.4.conv2.{norm.bias,norm.running_mean,norm.running_var,norm.weight,weight}    | (256,) (256,) (256,) (256,) (256,256,3,3)       |\n",
      "| backbone.bottom_up.res4.4.conv3.*    | backbone.bottom_up.res4.4.conv3.{norm.bias,norm.running_mean,norm.running_var,norm.weight,weight}    | (1024,) (1024,) (1024,) (1024,) (1024,256,1,1)  |\n",
      "| backbone.bottom_up.res4.5.conv1.*    | backbone.bottom_up.res4.5.conv1.{norm.bias,norm.running_mean,norm.running_var,norm.weight,weight}    | (256,) (256,) (256,) (256,) (256,1024,1,1)      |\n",
      "| backbone.bottom_up.res4.5.conv2.*    | backbone.bottom_up.res4.5.conv2.{norm.bias,norm.running_mean,norm.running_var,norm.weight,weight}    | (256,) (256,) (256,) (256,) (256,256,3,3)       |\n",
      "| backbone.bottom_up.res4.5.conv3.*    | backbone.bottom_up.res4.5.conv3.{norm.bias,norm.running_mean,norm.running_var,norm.weight,weight}    | (1024,) (1024,) (1024,) (1024,) (1024,256,1,1)  |\n",
      "| backbone.bottom_up.res5.0.conv1.*    | backbone.bottom_up.res5.0.conv1.{norm.bias,norm.running_mean,norm.running_var,norm.weight,weight}    | (512,) (512,) (512,) (512,) (512,1024,1,1)      |\n",
      "| backbone.bottom_up.res5.0.conv2.*    | backbone.bottom_up.res5.0.conv2.{norm.bias,norm.running_mean,norm.running_var,norm.weight,weight}    | (512,) (512,) (512,) (512,) (512,512,3,3)       |\n",
      "| backbone.bottom_up.res5.0.conv3.*    | backbone.bottom_up.res5.0.conv3.{norm.bias,norm.running_mean,norm.running_var,norm.weight,weight}    | (2048,) (2048,) (2048,) (2048,) (2048,512,1,1)  |\n",
      "| backbone.bottom_up.res5.0.shortcut.* | backbone.bottom_up.res5.0.shortcut.{norm.bias,norm.running_mean,norm.running_var,norm.weight,weight} | (2048,) (2048,) (2048,) (2048,) (2048,1024,1,1) |\n",
      "| backbone.bottom_up.res5.1.conv1.*    | backbone.bottom_up.res5.1.conv1.{norm.bias,norm.running_mean,norm.running_var,norm.weight,weight}    | (512,) (512,) (512,) (512,) (512,2048,1,1)      |\n",
      "| backbone.bottom_up.res5.1.conv2.*    | backbone.bottom_up.res5.1.conv2.{norm.bias,norm.running_mean,norm.running_var,norm.weight,weight}    | (512,) (512,) (512,) (512,) (512,512,3,3)       |\n",
      "| backbone.bottom_up.res5.1.conv3.*    | backbone.bottom_up.res5.1.conv3.{norm.bias,norm.running_mean,norm.running_var,norm.weight,weight}    | (2048,) (2048,) (2048,) (2048,) (2048,512,1,1)  |\n",
      "| backbone.bottom_up.res5.2.conv1.*    | backbone.bottom_up.res5.2.conv1.{norm.bias,norm.running_mean,norm.running_var,norm.weight,weight}    | (512,) (512,) (512,) (512,) (512,2048,1,1)      |\n",
      "| backbone.bottom_up.res5.2.conv2.*    | backbone.bottom_up.res5.2.conv2.{norm.bias,norm.running_mean,norm.running_var,norm.weight,weight}    | (512,) (512,) (512,) (512,) (512,512,3,3)       |\n",
      "| backbone.bottom_up.res5.2.conv3.*    | backbone.bottom_up.res5.2.conv3.{norm.bias,norm.running_mean,norm.running_var,norm.weight,weight}    | (2048,) (2048,) (2048,) (2048,) (2048,512,1,1)  |\n",
      "| backbone.bottom_up.stem.conv1.*      | backbone.bottom_up.stem.conv1.{norm.bias,norm.running_mean,norm.running_var,norm.weight,weight}      | (64,) (64,) (64,) (64,) (64,3,7,7)              |\n",
      "| backbone.fpn_lateral3.*              | backbone.fpn_lateral3.{bias,weight}                                                                  | (512,) (512,512,1,1)                            |\n",
      "| backbone.fpn_lateral4.*              | backbone.fpn_lateral4.{bias,weight}                                                                  | (512,) (512,1024,1,1)                           |\n",
      "| backbone.fpn_lateral5.*              | backbone.fpn_lateral5.{bias,weight}                                                                  | (512,) (512,2048,1,1)                           |\n",
      "| backbone.fpn_output3.*               | backbone.fpn_output3.{bias,weight}                                                                   | (512,) (512,512,3,3)                            |\n",
      "| backbone.fpn_output4.*               | backbone.fpn_output4.{bias,weight}                                                                   | (512,) (512,512,3,3)                            |\n",
      "| backbone.fpn_output5.*               | backbone.fpn_output5.{bias,weight}                                                                   | (512,) (512,512,3,3)                            |\n",
      "| m.0.*                                | m.0.{bias,weight}                                                                                    | (18,) (18,512,1,1)                              |\n",
      "| m.1.*                                | m.1.{bias,weight}                                                                                    | (18,) (18,256,1,1)                              |\n",
      "| m.2.*                                | m.2.{bias,weight}                                                                                    | (18,) (18,128,1,1)                              |\n",
      "| neck.out0.0.bn.*                     | neck.out0.0.bn.{bias,num_batches_tracked,running_mean,running_var,weight}                            | (512,) () (512,) (512,) (512,)                  |\n",
      "| neck.out0.0.conv.weight              | neck.out0.0.conv.weight                                                                              | (512, 512, 1, 1)                                |\n",
      "| neck.out0.1.bn.*                     | neck.out0.1.bn.{bias,num_batches_tracked,running_mean,running_var,weight}                            | (1024,) () (1024,) (1024,) (1024,)              |\n",
      "| neck.out0.1.conv.weight              | neck.out0.1.conv.weight                                                                              | (1024, 512, 3, 3)                               |\n",
      "| neck.out0.2.bn.*                     | neck.out0.2.bn.{bias,num_batches_tracked,running_mean,running_var,weight}                            | (512,) () (512,) (512,) (512,)                  |\n",
      "| neck.out0.2.conv.weight              | neck.out0.2.conv.weight                                                                              | (512, 1024, 1, 1)                               |\n",
      "| neck.out0.3.bn.*                     | neck.out0.3.bn.{bias,num_batches_tracked,running_mean,running_var,weight}                            | (1024,) () (1024,) (1024,) (1024,)              |\n",
      "| neck.out0.3.conv.weight              | neck.out0.3.conv.weight                                                                              | (1024, 512, 3, 3)                               |\n",
      "| neck.out0.4.bn.*                     | neck.out0.4.bn.{bias,num_batches_tracked,running_mean,running_var,weight}                            | (512,) () (512,) (512,) (512,)                  |\n",
      "| neck.out0.4.conv.weight              | neck.out0.4.conv.weight                                                                              | (512, 1024, 1, 1)                               |\n",
      "| neck.out1.0.bn.*                     | neck.out1.0.bn.{bias,num_batches_tracked,running_mean,running_var,weight}                            | (256,) () (256,) (256,) (256,)                  |\n",
      "| neck.out1.0.conv.weight              | neck.out1.0.conv.weight                                                                              | (256, 768, 1, 1)                                |\n",
      "| neck.out1.1.bn.*                     | neck.out1.1.bn.{bias,num_batches_tracked,running_mean,running_var,weight}                            | (512,) () (512,) (512,) (512,)                  |\n",
      "| neck.out1.1.conv.weight              | neck.out1.1.conv.weight                                                                              | (512, 256, 3, 3)                                |\n",
      "| neck.out1.2.bn.*                     | neck.out1.2.bn.{bias,num_batches_tracked,running_mean,running_var,weight}                            | (256,) () (256,) (256,) (256,)                  |\n",
      "| neck.out1.2.conv.weight              | neck.out1.2.conv.weight                                                                              | (256, 512, 1, 1)                                |\n",
      "| neck.out1.3.bn.*                     | neck.out1.3.bn.{bias,num_batches_tracked,running_mean,running_var,weight}                            | (512,) () (512,) (512,) (512,)                  |\n",
      "| neck.out1.3.conv.weight              | neck.out1.3.conv.weight                                                                              | (512, 256, 3, 3)                                |\n",
      "| neck.out1.4.bn.*                     | neck.out1.4.bn.{bias,num_batches_tracked,running_mean,running_var,weight}                            | (256,) () (256,) (256,) (256,)                  |\n",
      "| neck.out1.4.conv.weight              | neck.out1.4.conv.weight                                                                              | (256, 512, 1, 1)                                |\n",
      "| neck.out1_cbl.bn.*                   | neck.out1_cbl.bn.{bias,num_batches_tracked,running_mean,running_var,weight}                          | (256,) () (256,) (256,) (256,)                  |\n",
      "| neck.out1_cbl.conv.weight            | neck.out1_cbl.conv.weight                                                                            | (256, 512, 1, 1)                                |\n",
      "| neck.out2.0.bn.*                     | neck.out2.0.bn.{bias,num_batches_tracked,running_mean,running_var,weight}                            | (128,) () (128,) (128,) (128,)                  |\n",
      "| neck.out2.0.conv.weight              | neck.out2.0.conv.weight                                                                              | (128, 640, 1, 1)                                |\n",
      "| neck.out2.1.bn.*                     | neck.out2.1.bn.{bias,num_batches_tracked,running_mean,running_var,weight}                            | (256,) () (256,) (256,) (256,)                  |\n",
      "| neck.out2.1.conv.weight              | neck.out2.1.conv.weight                                                                              | (256, 128, 3, 3)                                |\n",
      "| neck.out2.2.bn.*                     | neck.out2.2.bn.{bias,num_batches_tracked,running_mean,running_var,weight}                            | (128,) () (128,) (128,) (128,)                  |\n",
      "| neck.out2.2.conv.weight              | neck.out2.2.conv.weight                                                                              | (128, 256, 1, 1)                                |\n",
      "| neck.out2.3.bn.*                     | neck.out2.3.bn.{bias,num_batches_tracked,running_mean,running_var,weight}                            | (256,) () (256,) (256,) (256,)                  |\n",
      "| neck.out2.3.conv.weight              | neck.out2.3.conv.weight                                                                              | (256, 128, 3, 3)                                |\n",
      "| neck.out2.4.bn.*                     | neck.out2.4.bn.{bias,num_batches_tracked,running_mean,running_var,weight}                            | (128,) () (128,) (128,) (128,)                  |\n",
      "| neck.out2.4.conv.weight              | neck.out2.4.conv.weight                                                                              | (128, 256, 1, 1)                                |\n",
      "| neck.out2_cbl.bn.*                   | neck.out2_cbl.bn.{bias,num_batches_tracked,running_mean,running_var,weight}                          | (128,) () (128,) (128,) (128,)                  |\n",
      "| neck.out2_cbl.conv.weight            | neck.out2_cbl.conv.weight                                                                            | (128, 256, 1, 1)                                |\n",
      "800 800 600\n",
      "confidence thresh:  0.27\n",
      "image after transform:  (600, 600, 3)\n",
      "cost: 0.8665430545806885, fps: 1.1540107496261567\n",
      "image after transform:  (600, 600, 3)\n",
      "cost: 0.018999576568603516, fps: 52.63275191366545\n",
      "image after transform:  (600, 600, 3)\n",
      "cost: 0.019001007080078125, fps: 52.62878939971893\n",
      "image after transform:  (600, 600, 3)\n",
      "cost: 0.3500025272369385, fps: 2.857122226786202\n",
      "image after transform:  (600, 600, 3)\n",
      "cost: 0.01799798011779785, fps: 55.56179045953715\n",
      "image after transform:  (450, 600, 3)\n",
      "cost: 0.2956833839416504, fps: 3.381995926417489\n"
     ]
    },
    {
     "name": "stderr",
     "output_type": "stream",
     "text": [
      "Install mish-cuda to speed up training and inference. More importantly, replace the naive Mish with MishCuda will give a ~1.5G memory saving during training.\n",
      "17:11:32 07.09 \u001b[1mINFO\u001b[0m yolov7.py:98]: YOLO.ANCHORS: [[[231.0, 298.0], [356.0, 458.0], [157.0, 199.0]], [[85.0, 106.0], [63.0, 79.0], [115.0, 143.0]], [[46.0, 56.0], [31.0, 37.0], [17.0, 19.0]]]\n",
      "17:11:32 07.09 \u001b[1mINFO\u001b[0m yolov7.py:99]: backboneshape: [512, 512, 512]\n",
      "17:11:32 07.09 \u001b[1mINFO\u001b[0m yolov7.py:151]: type: yolov3 not valid, using default FPN neck.\n",
      "\n",
      "  0%|          | 0/6 [00:00<?, ?it/s]\n",
      " 17%|#6        | 1/6 [00:32<02:42, 32.60s/it]\n",
      " 33%|###3      | 2/6 [00:56<01:50, 27.64s/it]\n",
      " 50%|#####     | 3/6 [01:03<00:54, 18.23s/it]\n",
      " 67%|######6   | 4/6 [01:36<00:48, 24.12s/it]\n",
      " 83%|########3 | 5/6 [01:41<00:17, 17.20s/it]\n",
      "100%|##########| 6/6 [01:44<00:00, 12.21s/it]\n",
      "100%|##########| 6/6 [01:44<00:00, 17.40s/it]\n"
     ]
    }
   ],
   "source": [
    "# Command for testing car damage detection on a folder \n",
    "!python my_demo.py --config-file output/car_damage_r50/config.yaml --input images -c 0.27 --output detectasd --opts MODEL.WEIGHTS output/car_damage_r50/model_final.pth"
   ]
  },
  {
   "cell_type": "code",
   "execution_count": null,
   "id": "61f72376",
   "metadata": {},
   "outputs": [],
   "source": []
  },
  {
   "cell_type": "code",
   "execution_count": null,
   "id": "567a8fe2",
   "metadata": {},
   "outputs": [],
   "source": []
  },
  {
   "cell_type": "code",
   "execution_count": null,
   "id": "2409b5b4",
   "metadata": {},
   "outputs": [],
   "source": []
  },
  {
   "cell_type": "code",
   "execution_count": null,
   "id": "089610bc",
   "metadata": {},
   "outputs": [],
   "source": []
  },
  {
   "cell_type": "code",
   "execution_count": null,
   "id": "c5e50a09",
   "metadata": {},
   "outputs": [],
   "source": []
  },
  {
   "cell_type": "code",
   "execution_count": null,
   "id": "9b1b7f82",
   "metadata": {},
   "outputs": [],
   "source": []
  }
 ],
 "metadata": {
  "kernelspec": {
   "display_name": "Python 3 (ipykernel)",
   "language": "python",
   "name": "python3"
  },
  "language_info": {
   "codemirror_mode": {
    "name": "ipython",
    "version": 3
   },
   "file_extension": ".py",
   "mimetype": "text/x-python",
   "name": "python",
   "nbconvert_exporter": "python",
   "pygments_lexer": "ipython3",
   "version": "3.8.13"
  }
 },
 "nbformat": 4,
 "nbformat_minor": 5
}
